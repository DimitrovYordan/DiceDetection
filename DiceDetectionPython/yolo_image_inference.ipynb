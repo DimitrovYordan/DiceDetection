{
 "cells": [
  {
   "cell_type": "code",
   "execution_count": null,
   "id": "62e7f711",
   "metadata": {},
   "outputs": [],
   "source": [
    "\n",
    "!pip install ultralytics --quiet\n"
   ]
  },
  {
   "cell_type": "code",
   "execution_count": null,
   "id": "9daf095c",
   "metadata": {},
   "outputs": [],
   "source": [
    "\n",
    "from ultralytics import YOLO\n",
    "from IPython.display import Image, display\n",
    "import glob\n",
    "\n",
    "# Качи .pt модела\n",
    "from google.colab import files\n",
    "print(\"📁 Качи своя YOLOv8 модел (.pt):\")\n",
    "uploaded = files.upload()\n",
    "model_path = list(uploaded.keys())[0]\n",
    "\n",
    "# Зареди модела\n",
    "model = YOLO(model_path)\n"
   ]
  },
  {
   "cell_type": "code",
   "execution_count": null,
   "id": "b5f250a5",
   "metadata": {},
   "outputs": [],
   "source": [
    "\n",
    "print(\"📁 Качи изображения за анализ (.jpg):\")\n",
    "uploaded_images = files.upload()\n",
    "img_paths = list(uploaded_images.keys())\n"
   ]
  },
  {
   "cell_type": "code",
   "execution_count": null,
   "id": "411fded4",
   "metadata": {},
   "outputs": [],
   "source": [
    "\n",
    "# Детекция\n",
    "results = model.predict(source=img_paths, conf=0.25, save=True)\n",
    "\n",
    "# Показване на резултатите\n",
    "for img_path in glob.glob(\"runs/detect/predict/*.jpg\"):\n",
    "    display(Image(filename=img_path))\n"
   ]
  }
 ],
 "metadata": {},
 "nbformat": 4,
 "nbformat_minor": 5
}